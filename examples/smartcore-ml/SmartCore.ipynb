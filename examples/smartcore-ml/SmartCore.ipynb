{
 "cells": [
  {
   "cell_type": "markdown",
   "id": "d764f850",
   "metadata": {},
   "source": [
    "Copyright 2024 RISC Zero, Inc.\n",
    "\n",
    " Licensed under the Apache License, Version 2.0 (the \"License\");\n",
    "you may not use this file except in compliance with the License.\n",
    "You may obtain a copy of the License at\n",
    "\n",
    "    http://www.apache.org/licenses/LICENSE-2.0\n",
    "\n",
    " Unless required by applicable law or agreed to in writing, software\n",
    " distributed under the License is distributed on an \"AS IS\" BASIS,\n",
    " WITHOUT WARRANTIES OR CONDITIONS OF ANY KIND, either express or implied.\n",
    " See the License for the specific language governing permissions and\n",
    " limitations under the License."
   ]
  },
  {
   "cell_type": "markdown",
   "id": "84ca40bd-02b8-4662-9ced-676b54962ae3",
   "metadata": {},
   "source": [
    "The following notebook is meant to serve as a guide for training classifiers and regression models using the SmartCore crate.  Prior to training the classifier in Rust, the data should be processed in Python.  The data and classes should be exported as separate CSV files.\n",
    "\n",
    "Start by importing the Smartcore and Polars crates as dependencies.  Outside of a jupyter notebook environment, you can add these to your cargo.toml file or use cargo add \"CRATE-NAME\" in the command line.\n",
    "\n",
    "Be sure to include serde as a feature for the smartcore crate, otherwise the Smartcore CSV readers will not work."
   ]
  },
  {
   "cell_type": "code",
   "execution_count": 35,
   "id": "c7c3dabf-0d74-4e36-bacb-ae7c0c8b8ea2",
   "metadata": {
    "vscode": {
     "languageId": "rust"
    }
   },
   "outputs": [],
   "source": [
    ":dep smartcore = {version = \"0.3.2\", features = [\"serde\"]}\n",
    ":dep polars = \"*\"\n",
    ":dep serde_json = \"1.0\"\n",
    ":dep rmp-serde = \"1.1.2\""
   ]
  },
  {
   "cell_type": "code",
   "execution_count": 36,
   "id": "63ed67bf-e3cf-4f08-b253-b155f9d6f865",
   "metadata": {
    "vscode": {
     "languageId": "rust"
    }
   },
   "outputs": [],
   "source": [
    "use smartcore::linalg::basic::matrix::DenseMatrix;\n",
    "use smartcore::tree::decision_tree_classifier::*;\n",
    "use smartcore::readers;\n",
    "\n",
    "use std::fs::File;\n",
    "use std::io::{Read, Write};\n",
    "use polars::prelude::*;\n",
    "use serde_json;\n",
    "use rmp_serde;"
   ]
  },
  {
   "cell_type": "markdown",
   "id": "1e6b128a-2dd2-4f8c-9154-c95fe564a0b6",
   "metadata": {},
   "source": [
    "We use Smartcore's CSV reader to import the input data for our classifier.  This will automatically format the data into a Smartcore DenseMatrix, which is the required format in order to train the classifier and perform inference."
   ]
  },
  {
   "cell_type": "code",
   "execution_count": 37,
   "id": "46606515-f2c7-4576-8b66-b2bc1aa379f8",
   "metadata": {
    "vscode": {
     "languageId": "rust"
    }
   },
   "outputs": [],
   "source": [
    "let input = readers::csv::matrix_from_csv_source::<f64, Vec<_>, DenseMatrix<_>>(\n",
    "    File::open(\"iris_input_data.csv\").unwrap(),\n",
    "    readers::csv::CSVDefinition::default()\n",
    ").unwrap();"
   ]
  },
  {
   "cell_type": "code",
   "execution_count": 38,
   "id": "3d0a5ae1-feb8-439e-8f91-909f3bcf05ef",
   "metadata": {
    "vscode": {
     "languageId": "rust"
    }
   },
   "outputs": [
    {
     "data": {
      "text/plain": [
       "DenseMatrix { ncols: 4, nrows: 150, values: [5.1, 3.5, 1.4, 0.2, 4.9, 3.0, 1.4, 0.2, 4.7, 3.2, 1.3, 0.2, 4.6, 3.1, 1.5, 0.2, 5.0, 3.6, 1.4, 0.2, 5.4, 3.9, 1.7, 0.4, 4.6, 3.4, 1.4, 0.3, 5.0, 3.4, 1.5, 0.2, 4.4, 2.9, 1.4, 0.2, 4.9, 3.1, 1.5, 0.1, 5.4, 3.7, 1.5, 0.2, 4.8, 3.4, 1.6, 0.2, 4.8, 3.0, 1.4, 0.1, 4.3, 3.0, 1.1, 0.1, 5.8, 4.0, 1.2, 0.2, 5.7, 4.4, 1.5, 0.4, 5.4, 3.9, 1.3, 0.4, 5.1, 3.5, 1.4, 0.3, 5.7, 3.8, 1.7, 0.3, 5.1, 3.8, 1.5, 0.3, 5.4, 3.4, 1.7, 0.2, 5.1, 3.7, 1.5, 0.4, 4.6, 3.6, 1.0, 0.2, 5.1, 3.3, 1.7, 0.5, 4.8, 3.4, 1.9, 0.2, 5.0, 3.0, 1.6, 0.2, 5.0, 3.4, 1.6, 0.4, 5.2, 3.5, 1.5, 0.2, 5.2, 3.4, 1.4, 0.2, 4.7, 3.2, 1.6, 0.2, 4.8, 3.1, 1.6, 0.2, 5.4, 3.4, 1.5, 0.4, 5.2, 4.1, 1.5, 0.1, 5.5, 4.2, 1.4, 0.2, 4.9, 3.1, 1.5, 0.2, 5.0, 3.2, 1.2, 0.2, 5.5, 3.5, 1.3, 0.2, 4.9, 3.6, 1.4, 0.1, 4.4, 3.0, 1.3, 0.2, 5.1, 3.4, 1.5, 0.2, 5.0, 3.5, 1.3, 0.3, 4.5, 2.3, 1.3, 0.3, 4.4, 3.2, 1.3, 0.2, 5.0, 3.5, 1.6, 0.6, 5.1, 3.8, 1.9, 0.4, 4.8, 3.0, 1.4, 0.3, 5.1, 3.8, 1.6, 0.2, 4.6, 3.2, 1.4, 0.2, 5.3, 3.7, 1.5, 0.2, 5.0, 3.3, 1.4, 0.2, 7.0, 3.2, 4.7, 1.4, 6.4, 3.2, 4.5, 1.5, 6.9, 3.1, 4.9, 1.5, 5.5, 2.3, 4.0, 1.3, 6.5, 2.8, 4.6, 1.5, 5.7, 2.8, 4.5, 1.3, 6.3, 3.3, 4.7, 1.6, 4.9, 2.4, 3.3, 1.0, 6.6, 2.9, 4.6, 1.3, 5.2, 2.7, 3.9, 1.4, 5.0, 2.0, 3.5, 1.0, 5.9, 3.0, 4.2, 1.5, 6.0, 2.2, 4.0, 1.0, 6.1, 2.9, 4.7, 1.4, 5.6, 2.9, 3.6, 1.3, 6.7, 3.1, 4.4, 1.4, 5.6, 3.0, 4.5, 1.5, 5.8, 2.7, 4.1, 1.0, 6.2, 2.2, 4.5, 1.5, 5.6, 2.5, 3.9, 1.1, 5.9, 3.2, 4.8, 1.8, 6.1, 2.8, 4.0, 1.3, 6.3, 2.5, 4.9, 1.5, 6.1, 2.8, 4.7, 1.2, 6.4, 2.9, 4.3, 1.3, 6.6, 3.0, 4.4, 1.4, 6.8, 2.8, 4.8, 1.4, 6.7, 3.0, 5.0, 1.7, 6.0, 2.9, 4.5, 1.5, 5.7, 2.6, 3.5, 1.0, 5.5, 2.4, 3.8, 1.1, 5.5, 2.4, 3.7, 1.0, 5.8, 2.7, 3.9, 1.2, 6.0, 2.7, 5.1, 1.6, 5.4, 3.0, 4.5, 1.5, 6.0, 3.4, 4.5, 1.6, 6.7, 3.1, 4.7, 1.5, 6.3, 2.3, 4.4, 1.3, 5.6, 3.0, 4.1, 1.3, 5.5, 2.5, 4.0, 1.3, 5.5, 2.6, 4.4, 1.2, 6.1, 3.0, 4.6, 1.4, 5.8, 2.6, 4.0, 1.2, 5.0, 2.3, 3.3, 1.0, 5.6, 2.7, 4.2, 1.3, 5.7, 3.0, 4.2, 1.2, 5.7, 2.9, 4.2, 1.3, 6.2, 2.9, 4.3, 1.3, 5.1, 2.5, 3.0, 1.1, 5.7, 2.8, 4.1, 1.3, 6.3, 3.3, 6.0, 2.5, 5.8, 2.7, 5.1, 1.9, 7.1, 3.0, 5.9, 2.1, 6.3, 2.9, 5.6, 1.8, 6.5, 3.0, 5.8, 2.2, 7.6, 3.0, 6.6, 2.1, 4.9, 2.5, 4.5, 1.7, 7.3, 2.9, 6.3, 1.8, 6.7, 2.5, 5.8, 1.8, 7.2, 3.6, 6.1, 2.5, 6.5, 3.2, 5.1, 2.0, 6.4, 2.7, 5.3, 1.9, 6.8, 3.0, 5.5, 2.1, 5.7, 2.5, 5.0, 2.0, 5.8, 2.8, 5.1, 2.4, 6.4, 3.2, 5.3, 2.3, 6.5, 3.0, 5.5, 1.8, 7.7, 3.8, 6.7, 2.2, 7.7, 2.6, 6.9, 2.3, 6.0, 2.2, 5.0, 1.5, 6.9, 3.2, 5.7, 2.3, 5.6, 2.8, 4.9, 2.0, 7.7, 2.8, 6.7, 2.0, 6.3, 2.7, 4.9, 1.8, 6.7, 3.3, 5.7, 2.1, 7.2, 3.2, 6.0, 1.8, 6.2, 2.8, 4.8, 1.8, 6.1, 3.0, 4.9, 1.8, 6.4, 2.8, 5.6, 2.1, 7.2, 3.0, 5.8, 1.6, 7.4, 2.8, 6.1, 1.9, 7.9, 3.8, 6.4, 2.0, 6.4, 2.8, 5.6, 2.2, 6.3, 2.8, 5.1, 1.5, 6.1, 2.6, 5.6, 1.4, 7.7, 3.0, 6.1, 2.3, 6.3, 3.4, 5.6, 2.4, 6.4, 3.1, 5.5, 1.8, 6.0, 3.0, 4.8, 1.8, 6.9, 3.1, 5.4, 2.1, 6.7, 3.1, 5.6, 2.4, 6.9, 3.1, 5.1, 2.3, 5.8, 2.7, 5.1, 1.9, 6.8, 3.2, 5.9, 2.3, 6.7, 3.3, 5.7, 2.5, 6.7, 3.0, 5.2, 2.3, 6.3, 2.5, 5.0, 1.9, 6.5, 3.0, 5.2, 2.0, 6.2, 3.4, 5.4, 2.3, 5.9, 3.0, 5.1, 1.8], column_major: false }"
      ]
     },
     "execution_count": 38,
     "metadata": {},
     "output_type": "execute_result"
    }
   ],
   "source": [
    "input"
   ]
  },
  {
   "cell_type": "markdown",
   "id": "0477c02d-f0af-4a21-ab7a-e31facf6ac93",
   "metadata": {},
   "source": [
    "We import the classes from a separate CSV file using Polars.  We transform the DataFrame into a DataSeries and then convert to a `Vec<i64>`.  We then need to cast from `Vec<i64>` to `Vec<u32>`, which is the required format for the Smartcore classifier."
   ]
  },
  {
   "cell_type": "code",
   "execution_count": 39,
   "id": "d992fc8c-df41-4b20-8076-1d2ce8221665",
   "metadata": {
    "vscode": {
     "languageId": "rust"
    }
   },
   "outputs": [],
   "source": [
    "let filepath_iris_classes = \"iris_classes.csv\";\n",
    "\n",
    "let y_u32s: Vec<u32> = CsvReader::from_path(filepath_iris_classes).unwrap().finish().unwrap()\n",
    "                .column(\"variety\").unwrap().clone()\n",
    "                .i64()?.into_no_null_iter().collect::<Vec<i64>>()\n",
    "                .into_iter().map(|x| x as u32).collect::<Vec<u32>>();"
   ]
  },
  {
   "cell_type": "code",
   "execution_count": 40,
   "id": "60e88c74-2552-447f-b593-572d257c1eb1",
   "metadata": {
    "vscode": {
     "languageId": "rust"
    }
   },
   "outputs": [
    {
     "data": {
      "text/plain": [
       "[0, 0, 0, 0, 0, 0, 0, 0, 0, 0, 0, 0, 0, 0, 0, 0, 0, 0, 0, 0, 0, 0, 0, 0, 0, 0, 0, 0, 0, 0, 0, 0, 0, 0, 0, 0, 0, 0, 0, 0, 0, 0, 0, 0, 0, 0, 0, 0, 0, 0, 1, 1, 1, 1, 1, 1, 1, 1, 1, 1, 1, 1, 1, 1, 1, 1, 1, 1, 1, 1, 1, 1, 1, 1, 1, 1, 1, 1, 1, 1, 1, 1, 1, 1, 1, 1, 1, 1, 1, 1, 1, 1, 1, 1, 1, 1, 1, 1, 1, 1, 2, 2, 2, 2, 2, 2, 2, 2, 2, 2, 2, 2, 2, 2, 2, 2, 2, 2, 2, 2, 2, 2, 2, 2, 2, 2, 2, 2, 2, 2, 2, 2, 2, 2, 2, 2, 2, 2, 2, 2, 2, 2, 2, 2, 2, 2, 2, 2, 2, 2]"
      ]
     },
     "execution_count": 40,
     "metadata": {},
     "output_type": "execute_result"
    }
   ],
   "source": [
    "y_u32s"
   ]
  },
  {
   "cell_type": "markdown",
   "id": "9e278ff1-7769-4a45-9d37-eb119ee7f7c6",
   "metadata": {},
   "source": [
    "Now, we can train the model using our desired classifier.  "
   ]
  },
  {
   "cell_type": "code",
   "execution_count": 41,
   "id": "504399a1-4d6a-4f41-ae53-fd0021b49b17",
   "metadata": {
    "vscode": {
     "languageId": "rust"
    }
   },
   "outputs": [],
   "source": [
    "let model = DecisionTreeClassifier::fit(&input, &y_u32s, Default::default()).unwrap();"
   ]
  },
  {
   "cell_type": "markdown",
   "id": "f18a14b2-7e40-440d-bcef-12ebd5c77de6",
   "metadata": {},
   "source": [
    "We call predict() on the model in order to perform inference."
   ]
  },
  {
   "cell_type": "code",
   "execution_count": 42,
   "id": "e6bd2dec-b2af-40fb-81cd-5a89addb8d97",
   "metadata": {
    "vscode": {
     "languageId": "rust"
    }
   },
   "outputs": [
    {
     "data": {
      "text/plain": [
       "[0, 0, 0, 0, 0, 0, 0, 0, 0, 0, 0, 0, 0, 0, 0, 0, 0, 0, 0, 0, 0, 0, 0, 0, 0, 0, 0, 0, 0, 0, 0, 0, 0, 0, 0, 0, 0, 0, 0, 0, 0, 0, 0, 0, 0, 0, 0, 0, 0, 0, 1, 1, 1, 1, 1, 1, 1, 1, 1, 1, 1, 1, 1, 1, 1, 1, 1, 1, 1, 1, 1, 1, 1, 1, 1, 1, 1, 1, 1, 1, 1, 1, 1, 1, 1, 1, 1, 1, 1, 1, 1, 1, 1, 1, 1, 1, 1, 1, 1, 1, 2, 2, 2, 2, 2, 2, 2, 2, 2, 2, 2, 2, 2, 2, 2, 2, 2, 2, 2, 2, 2, 2, 2, 2, 2, 2, 2, 2, 2, 2, 2, 2, 2, 2, 2, 2, 2, 2, 2, 2, 2, 2, 2, 2, 2, 2, 2, 2, 2, 2]"
      ]
     },
     "execution_count": 42,
     "metadata": {},
     "output_type": "execute_result"
    }
   ],
   "source": [
    "model.predict(&input).unwrap()"
   ]
  },
  {
   "cell_type": "markdown",
   "id": "ba04333b-1604-464a-bb85-57bd55373386",
   "metadata": {},
   "source": [
    "For Decision Trees, Smartcore gives you the option to specify the following parameters:\n",
    "- split criterion (Gini or Entropy)\n",
    "- maximum tree depth\n",
    "- minimum number of leaves (The minimum number of samples required to be at a leaf node).\n",
    "- minimum sample splits (The minimum number of samples required to split an internal node).\n",
    "- seed (Controls the randomness of the estimator)"
   ]
  },
  {
   "cell_type": "code",
   "execution_count": 43,
   "id": "2197a643-cc6d-4801-a03f-0ecbaf960260",
   "metadata": {
    "vscode": {
     "languageId": "rust"
    }
   },
   "outputs": [],
   "source": [
    "let model_with_custom_params = DecisionTreeClassifier::fit(&input, &y_u32s, DecisionTreeClassifierParameters {\n",
    "                    criterion: SplitCriterion::Entropy,\n",
    "                    max_depth: Some(3),\n",
    "                    min_samples_leaf: 1,\n",
    "                    min_samples_split: 2,\n",
    "                    seed: Option::None\n",
    "                }\n",
    "            )\n",
    "            .unwrap();"
   ]
  },
  {
   "cell_type": "code",
   "execution_count": 44,
   "id": "82891f9c-d27b-4a1c-8afb-079dd8e718cd",
   "metadata": {
    "vscode": {
     "languageId": "rust"
    }
   },
   "outputs": [
    {
     "data": {
      "text/plain": [
       "[0, 0, 0, 0, 0, 0, 0, 0, 0, 0, 0, 0, 0, 0, 0, 0, 0, 0, 0, 0, 0, 0, 0, 0, 0, 0, 0, 0, 0, 0, 0, 0, 0, 0, 0, 0, 0, 0, 0, 0, 0, 0, 0, 0, 0, 0, 0, 0, 0, 0, 1, 1, 1, 1, 1, 1, 1, 1, 1, 1, 1, 1, 1, 1, 1, 1, 1, 1, 1, 1, 2, 1, 1, 1, 1, 1, 1, 1, 1, 1, 1, 1, 1, 1, 1, 1, 1, 1, 1, 1, 1, 1, 1, 1, 1, 1, 1, 1, 1, 1, 2, 2, 2, 2, 2, 2, 1, 2, 2, 2, 2, 2, 2, 2, 2, 2, 2, 2, 2, 1, 2, 2, 2, 2, 2, 2, 2, 2, 2, 1, 2, 2, 2, 1, 1, 2, 2, 2, 2, 2, 2, 2, 2, 2, 2, 2, 2, 2, 2, 2]"
      ]
     },
     "execution_count": 44,
     "metadata": {},
     "output_type": "execute_result"
    }
   ],
   "source": [
    "model_with_custom_params.predict(&input).unwrap()"
   ]
  },
  {
   "cell_type": "markdown",
   "id": "c1c395a8-72b8-467b-b027-f803f144e379",
   "metadata": {},
   "source": [
    "Model training can be performed in the host code, but you can also import a serialized pre-trained model from a JSON, YAML, or ProtoBuf file.  \n",
    "\n",
    "The code below let's you export the trained model and the input data as serialized JSON files which can be imported into the host.\n",
    "\n",
    "For use in the ZKVM, serializing the model and input data as a byte array is ideal.  The code below exports the trained model and input data as byte arrays in JSON files."
   ]
  },
  {
   "cell_type": "code",
   "execution_count": 48,
   "id": "73f0cb74-23d5-4831-8589-449df4dd5718",
   "metadata": {
    "vscode": {
     "languageId": "rust"
    }
   },
   "outputs": [],
   "source": [
    "\n",
    "let model_bytes = rmp_serde::to_vec(&model).unwrap();\n",
    "let data_bytes = rmp_serde::to_vec(&input).unwrap();\n",
    "\n",
    "let mut f = File::create(\"res/ml-model/tree_model_bytes.bin\").expect(\"unable to create file\");\n",
    "f.write_all(&model_bytes).expect(\"Unable to write data\");\n",
    "\n",
    "let mut f1 = File::create(\"res/input-data/tree_model_data_bytes.bin\").expect(\"unable to create file\");\n",
    "f1.write_all(&data_bytes).expect(\"Unable to write data\");"
   ]
  },
  {
   "cell_type": "code",
   "execution_count": null,
   "id": "8d9c7df3-4db6-415d-8390-a7c19956bbf6",
   "metadata": {
    "vscode": {
     "languageId": "rust"
    }
   },
   "outputs": [],
   "source": []
  }
 ],
 "metadata": {
  "kernelspec": {
   "display_name": "Rust",
   "language": "rust",
   "name": "rust"
  },
  "language_info": {
   "codemirror_mode": "rust",
   "file_extension": ".rs",
   "mimetype": "text/rust",
   "name": "Rust",
   "pygment_lexer": "rust",
   "version": ""
  }
 },
 "nbformat": 4,
 "nbformat_minor": 5
}
