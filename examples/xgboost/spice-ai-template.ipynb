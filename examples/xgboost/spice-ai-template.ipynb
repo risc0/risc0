{
 "cells": [
  {
   "cell_type": "markdown",
   "metadata": {},
   "source": [
    "The following code demonstrates how you can use SpiceAI's Python SDK to query data from Ethereum to train a machine learning model. For this use case, we use the XGBoost model from the Forust-ml package.  This package is a pure Rust implementation of the popular XGBoost algorithm complete with Python bindings.  The advantage of this package is that it allows users to train an XGBoost model in Python that is compatible with the RISC Zero zkVM for use in zkML applications.   The code in this notebook will present a straightforward workflow consisting of data querying using Spice AI's querying API, model training, and model export to the RISC Zero zkVM."
   ]
  },
  {
   "cell_type": "markdown",
   "metadata": {},
   "source": [
    "You can learn more about SpiceAI's Python sdk here:     https://docs.spice.xyz/sdks/python-sdk/streaming\n",
    "\n",
    "Do NOT use `pip install spicepy` to install the SDK as this will install a different package.\n",
    "\n",
    "Instead use `pip install git+https://github.com/spiceai/spicepy`"
   ]
  },
  {
   "cell_type": "markdown",
   "metadata": {},
   "source": [
    "You can learn more about the Forust package and its implementation of XGBoost here:  https://pypi.org/project/forust/\n",
    "\n",
    "Use `pip install forust` to install the package."
   ]
  },
  {
   "cell_type": "markdown",
   "metadata": {},
   "source": [
    "As a demonstration, we will train a very basic gas fee prediction model that will predict the gas fee in gwei per transaction for the next Ethereum block.\n",
    "\n",
    "Be sure you have the following packages installeds:  Pandas, Numpy, Forust, and Spicepy"
   ]
  },
  {
   "cell_type": "code",
   "execution_count": 1,
   "metadata": {},
   "outputs": [],
   "source": [
    "import pandas\n",
    "import numpy\n",
    "import forust\n",
    "import spicepy"
   ]
  },
  {
   "cell_type": "markdown",
   "metadata": {},
   "source": [
    "Using Spice AI's Python SDK, we can make SQL queries.  The returned data is formatted into a Pandas dataframe."
   ]
  },
  {
   "cell_type": "markdown",
   "metadata": {},
   "source": [
    "First, define your sql query"
   ]
  },
  {
   "cell_type": "code",
   "execution_count": 2,
   "metadata": {},
   "outputs": [],
   "source": [
    "sql_query = 'WITH counts AS (SELECT block_number, count(1) as \"count\" FROM eth.recent_transactions GROUP BY block_number) SELECT number as \"block number\", CAST(b.base_fee_per_gas / 1000000000.0 AS DOUBLE) as \"base gwei\", CAST(c.\"count\" AS DOUBLE) as \"txns\"  FROM eth.recent_blocks b  INNER JOIN counts c ON b.number = c.block_number  WHERE b.base_fee_per_gas IS NOT NULL ORDER BY block_number DESC LIMIT 500'"
   ]
  },
  {
   "cell_type": "markdown",
   "metadata": {},
   "source": [
    "You can change the SQL query to obtain your data.  \n",
    "A list of datasets available from SpiceAI can be found here:  https://docs.spice.xyz/getting-started/datasets\n",
    "\n",
    "Next, use your SpiceAI API key to obtain the data."
   ]
  },
  {
   "cell_type": "code",
   "execution_count": 3,
   "metadata": {},
   "outputs": [],
   "source": [
    "API_KEY = 'YOUR_SPICEAI_API_KEY'\n",
    "\n",
    "client = spicepy.Client(API_KEY)\n",
    "gas_fee_data_df = client.query(sql_query).read_pandas()"
   ]
  },
  {
   "cell_type": "markdown",
   "metadata": {},
   "source": [
    "We can inspect the DataFrame"
   ]
  },
  {
   "cell_type": "code",
   "execution_count": 4,
   "metadata": {},
   "outputs": [
    {
     "data": {
      "text/html": [
       "<div>\n",
       "<style scoped>\n",
       "    .dataframe tbody tr th:only-of-type {\n",
       "        vertical-align: middle;\n",
       "    }\n",
       "\n",
       "    .dataframe tbody tr th {\n",
       "        vertical-align: top;\n",
       "    }\n",
       "\n",
       "    .dataframe thead th {\n",
       "        text-align: right;\n",
       "    }\n",
       "</style>\n",
       "<table border=\"1\" class=\"dataframe\">\n",
       "  <thead>\n",
       "    <tr style=\"text-align: right;\">\n",
       "      <th></th>\n",
       "      <th>block number</th>\n",
       "      <th>base gwei</th>\n",
       "      <th>txns</th>\n",
       "    </tr>\n",
       "  </thead>\n",
       "  <tbody>\n",
       "    <tr>\n",
       "      <th>0</th>\n",
       "      <td>18511304</td>\n",
       "      <td>30.117385</td>\n",
       "      <td>117.0</td>\n",
       "    </tr>\n",
       "    <tr>\n",
       "      <th>1</th>\n",
       "      <td>18511303</td>\n",
       "      <td>30.993204</td>\n",
       "      <td>149.0</td>\n",
       "    </tr>\n",
       "    <tr>\n",
       "      <th>2</th>\n",
       "      <td>18511302</td>\n",
       "      <td>32.192796</td>\n",
       "      <td>131.0</td>\n",
       "    </tr>\n",
       "    <tr>\n",
       "      <th>3</th>\n",
       "      <td>18511301</td>\n",
       "      <td>32.189241</td>\n",
       "      <td>128.0</td>\n",
       "    </tr>\n",
       "    <tr>\n",
       "      <th>4</th>\n",
       "      <td>18511300</td>\n",
       "      <td>33.820501</td>\n",
       "      <td>195.0</td>\n",
       "    </tr>\n",
       "  </tbody>\n",
       "</table>\n",
       "</div>"
      ],
      "text/plain": [
       "   block number  base gwei   txns\n",
       "0      18511304  30.117385  117.0\n",
       "1      18511303  30.993204  149.0\n",
       "2      18511302  32.192796  131.0\n",
       "3      18511301  32.189241  128.0\n",
       "4      18511300  33.820501  195.0"
      ]
     },
     "execution_count": 4,
     "metadata": {},
     "output_type": "execute_result"
    }
   ],
   "source": [
    "gas_fee_data_df.head()"
   ]
  },
  {
   "cell_type": "markdown",
   "metadata": {},
   "source": [
    "Next we define are X and y variables"
   ]
  },
  {
   "cell_type": "code",
   "execution_count": 5,
   "metadata": {},
   "outputs": [],
   "source": [
    "X = gas_fee_data_df.drop(columns=['base gwei'])\n",
    "y = gas_fee_data_df['base gwei']"
   ]
  },
  {
   "cell_type": "markdown",
   "metadata": {},
   "source": [
    "We are now ready to train the model.  Do NOT change the value for max_size!  Otherwise, the model will cause an error inside the zkVM.\n",
    "\n",
    "Since we are using XGBoost as a regressor, we selective \"Squared Loss\" for our objective type.\n",
    "\n",
    "Note that we set the number of trees (iterations) at 10.  The default value is set at 100.  Fewer trees will result in a smaller model which will execute faster in the zkVM but at the expense of model accuracy.  For purposes of this demonstration, we want developers to be able to run this example without needing to use Bonsai, RISC Zero's AWS proving service. In practice, the iterations value should be set higher than 10.\n",
    "\n",
    "For a full list of parameters than can be modified, please reference the Forust machine learning API documentation:  https://jinlow.github.io/forust/"
   ]
  },
  {
   "cell_type": "code",
   "execution_count": 6,
   "metadata": {},
   "outputs": [],
   "source": [
    "# max_leaves must be set to the value below in order for compatibility with the zkVM\n",
    "max_size = 2**32 -1\n",
    "model = forust.GradientBooster(objective_type = \"SquaredLoss\", max_leaves = max_size, iterations = 10)"
   ]
  },
  {
   "cell_type": "code",
   "execution_count": 7,
   "metadata": {},
   "outputs": [],
   "source": [
    "model.fit(X, y)"
   ]
  },
  {
   "cell_type": "markdown",
   "metadata": {},
   "source": [
    "We can quickly test to see if the model is working by inputting a sample value from the training data"
   ]
  },
  {
   "cell_type": "code",
   "execution_count": 8,
   "metadata": {},
   "outputs": [
    {
     "data": {
      "text/plain": [
       "array([30.52804254])"
      ]
     },
     "execution_count": 8,
     "metadata": {},
     "output_type": "execute_result"
    }
   ],
   "source": [
    "model.predict(X.head(1))"
   ]
  },
  {
   "cell_type": "markdown",
   "metadata": {},
   "source": [
    "After confirming that the model is working as expected, we can export the parameters as a JSON file using the `save_booster` method"
   ]
  },
  {
   "cell_type": "code",
   "execution_count": 11,
   "metadata": {},
   "outputs": [],
   "source": [
    "model.save_booster(\"res/trained_model.json\")"
   ]
  },
  {
   "cell_type": "markdown",
   "metadata": {},
   "source": [
    "We are now ready to use the trained model in the RISC Zero zkVM"
   ]
  }
 ],
 "metadata": {
  "kernelspec": {
   "display_name": "Python 3 (ipykernel)",
   "language": "python",
   "name": "python3"
  },
  "language_info": {
   "codemirror_mode": {
    "name": "ipython",
    "version": 3
   },
   "file_extension": ".py",
   "mimetype": "text/x-python",
   "name": "python",
   "nbconvert_exporter": "python",
   "pygments_lexer": "ipython3",
   "version": "3.11.5"
  }
 },
 "nbformat": 4,
 "nbformat_minor": 4
}
