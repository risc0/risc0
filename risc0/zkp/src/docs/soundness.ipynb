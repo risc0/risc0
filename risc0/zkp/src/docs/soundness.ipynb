{
 "cells": [
  {
   "attachments": {},
   "cell_type": "markdown",
   "id": "989e89cd-6c96-4ceb-8508-44e9abb478a8",
   "metadata": {},
   "source": [
    "# 0STARK Soundness Analysis\n",
    "`0STARK` is the protocol which is implemented in the [`risc0-zkp`](https://docs.rs/risc0-zkp/latest/risc0_zkp/prove) crate and described in [Scalable Transparent Arguments of RISC-V Integrity](https://dev.risczero.com/proof-system-in-detail.pdf). \n",
    "\n",
    "This Python Notebook analyzes the soundness of the 0STARK protocol using four assumption regimes: \n",
    "\n",
    "1. Conjectured Security under Best Known Attack\n",
    "2. Provable Soundness in the List-Decoding Radius\n",
    "3. Conjectured Soundness using Algebraic Coding Theoretic Conjectures\n",
    "4. Provable Soundness in the Unique-Decoding Radius\n",
    "\n",
    "As of this writing, all STARKs used in production rely on Regime 1 in the list above. \n",
    "We include analysis in the other three regimes for reference. \n",
    "\n",
    "We also have a [soundness calculator built into the `risc0-zkp` crate](https://docs.rs/risc0-zkp/latest/risc0_zkp/prove/soundness/index.html#). RISC Zero's security targets are described in our [Cryptographic Security Model](https://dev.risczero.com/api/security-model). \n",
    "\n",
    "We would like to thank: \n",
    "- Ben Diamond and Jim Posen (Irreducible) for providing analysis for regimes (2) and (3) in the list above,\n",
    "- Ying Tong Lai and Nico Mohnblatt (Geometry Research) for their support with translating this analysis into the codebase (see above). \n",
    "- Al Kindi (Polygon) for his support in analyzing regime (4). "
   ]
  },
  {
   "cell_type": "code",
   "execution_count": 295,
   "id": "8560da35-9398-4050-9370-b50163cc0030",
   "metadata": {},
   "outputs": [],
   "source": [
    "import math\n",
    "\n",
    "k = 2  # negative log of the rate.\n",
    "rho = 1 / (1 << k)  # rate.\n",
    "h = 21  # log of the trace length. h = 21 is the largest value accepted by RISC Zero's on-chain verifier contracts.\n",
    "H = 1 << h  # domain size.\n",
    "D = H / rho  # domain size, after low-degree extension.\n",
    "ext_size = 4  # field extension degree.\n",
    "p = (1 << 31) - (1 << 27) + 1  # field characteristic: \n",
    "F = math.pow(p, ext_size)  # extension field size.\n",
    "num_control = 16 # number of control columns. retrieved from `circuit.get_taps()`, etc. \n",
    "num_data = 223 # number of data columns. retrieved from `circuit.get_taps()`, etc. \n",
    "num_accum = 40 # number of accum columns. retrieved from `circuit.get_taps()`, etc. \n",
    "C = num_control + num_data + num_accum  \n",
    "L = C + 4  # number of polynomials which ultimately appear in the FRI batch. we need to add 4 extra columns, for the \"segment polynomials\".\n",
    "s = 50  # number of FRI queries.\n",
    "max_combo = 9 # the maximum number of entries from a single column that are referenced in a single constraint. \n",
    "max_degree = 5"
   ]
  },
  {
   "cell_type": "markdown",
   "id": "12d91ec6",
   "metadata": {},
   "source": [
    "# Regime 1: Conjectured Security under Best Known Attack\n",
    "\n",
    "The so-called \"Toy Problem Conjecture\" from the [ethSTARK](https://eprint.iacr.org/2021/582) paper describes the conjectured security level of the STARK protocol under the best-known attack. We modify this analysis to include an error term associated with the permutation & lookup argument.\n",
    "\n",
    "### Soundness for permutation/lookup argument\n",
    "The permutation and lookup argument are both based on grand product accumulators; we can bound `e_permutation` and `e_lookup` by counting the degree of the accumulators and applying the Schwartz-Zippel Lemma. \n",
    "\n",
    "Because it makes no difference to the soundness analysis and simplifies the accounting dramatically, we treat these as a single accumulator. We proceed to count the number of terms being accumulated, which gives us the numerator for the Schwartz-Zippel bound. \n",
    "\n",
    "We observe that the values being accumulated are stored in the `accum` columns. We find that each row of `accum` contains at most `num_accum / ext_size` elements of Fp4, since each `accum` column holds a base field element.\n",
    "\n",
    "We find that each Fp4 element in the `accum` section corresponds to at most three terms in the grand product accumulation; `prod = prod * x1 * x2 * x3` is degree 4, and including the mux for the `controlID` brings us to our maximum allowed degree, which is 5. "
   ]
  },
  {
   "cell_type": "code",
   "execution_count": 296,
   "id": "bbaa458e",
   "metadata": {},
   "outputs": [],
   "source": [
    "accumulator_degree = num_accum / ext_size * (max_degree - 2) * H\n",
    "e_arguments =  num_accum / ext_size * (max_degree - 2) * H / F\n",
    "e_FRI_constant = 1 / F\n",
    "e_FRI_queries = math.pow(rho, s)\n",
    "e_total_toy_problem = e_FRI_constant + e_FRI_queries + e_arguments"
   ]
  },
  {
   "cell_type": "code",
   "execution_count": 297,
   "id": "1f3c31b0",
   "metadata": {},
   "outputs": [
    {
     "data": {
      "text/html": [
       "<div>\n",
       "<style scoped>\n",
       "    .dataframe tbody tr th:only-of-type {\n",
       "        vertical-align: middle;\n",
       "    }\n",
       "\n",
       "    .dataframe tbody tr th {\n",
       "        vertical-align: top;\n",
       "    }\n",
       "\n",
       "    .dataframe thead th {\n",
       "        text-align: right;\n",
       "    }\n",
       "</style>\n",
       "<table border=\"1\" class=\"dataframe\">\n",
       "  <thead>\n",
       "    <tr style=\"text-align: right;\">\n",
       "      <th></th>\n",
       "      <th>Term</th>\n",
       "      <th>-log_2(P[err])</th>\n",
       "    </tr>\n",
       "  </thead>\n",
       "  <tbody>\n",
       "    <tr>\n",
       "      <th>0</th>\n",
       "      <td>e_FRI_constant</td>\n",
       "      <td>123.627562</td>\n",
       "    </tr>\n",
       "    <tr>\n",
       "      <th>1</th>\n",
       "      <td>e_FRI_queries</td>\n",
       "      <td>100.000000</td>\n",
       "    </tr>\n",
       "    <tr>\n",
       "      <th>2</th>\n",
       "      <td>e_arguments</td>\n",
       "      <td>97.720672</td>\n",
       "    </tr>\n",
       "    <tr>\n",
       "      <th>3</th>\n",
       "      <td>e_total</td>\n",
       "      <td>97.450449</td>\n",
       "    </tr>\n",
       "  </tbody>\n",
       "</table>\n",
       "</div>"
      ],
      "text/plain": [
       "          Term  -log_2(P[err])\n",
       "0   e_FRI_constant      123.627562\n",
       "1    e_FRI_queries      100.000000\n",
       "2  e_arguments       97.720672\n",
       "3      e_total       97.450449"
      ]
     },
     "execution_count": 297,
     "metadata": {},
     "output_type": "execute_result"
    }
   ],
   "source": [
    "import numpy as np\n",
    "import pandas as pd\n",
    "\n",
    "def show_table():\n",
    "    err_terms = pd.DataFrame(\n",
    "        [\n",
    "            [\"e_FRI_constant\", e_FRI_constant],\n",
    "            [\"e_FRI_queries\", e_FRI_queries],\n",
    "            [\"e_arguments\", e_arguments],\n",
    "            [\"e_total\", e_total_toy_problem],\n",
    "        ],\n",
    "        columns=[\"Term\", \"P[err]\"]\n",
    "    )\n",
    "    err_terms[\"-log_2(P[err])\"] = 0 - np.log2(err_terms[\"P[err]\"])\n",
    "    err_terms = err_terms.drop(columns=\"P[err]\")\n",
    "    return err_terms\n",
    "show_table()"
   ]
  },
  {
   "cell_type": "markdown",
   "id": "7d7f39b4",
   "metadata": {},
   "source": [
    "# Regime 2: Provable Soundness in the List-Decoding Radius\n",
    "\n",
    "*This section was written by Ben Diamond & Jim Posen, based on the description in [Scalable Transparent Arguments of RISC-V Integrity](https://dev.risczero.com/proof-system-in-detail.pdf).*"
   ]
  },
  {
   "attachments": {},
   "cell_type": "markdown",
   "id": "5bfad65b-f562-40b3-9ec3-91111ac2c4bc",
   "metadata": {},
   "source": [
    "The parameter `m` below is the \"Johnson parameter\"; see [[Haböck](https://eprint.iacr.org/2022/1216.pdf)]. This one is subtle, since it doesn't appear directly in the protocol at all; rather, it only appears in the soundness estimates. We have chosen it to here _optimize_ the number of bits of provable security achieved. We comment on this further below."
   ]
  },
  {
   "cell_type": "code",
   "execution_count": 298,
   "id": "ee27ec72-0457-4276-b8c2-8997bbf70ba4",
   "metadata": {},
   "outputs": [],
   "source": [
    "m = 16\n",
    "alpha = (1 + 1 / (2 * m)) * math.sqrt(rho)\n",
    "theta = 1 - alpha"
   ]
  },
  {
   "attachments": {},
   "cell_type": "markdown",
   "id": "4057a312-4b94-4335-ac37-957dd4e60a9a",
   "metadata": {},
   "source": [
    "The below error terms reflect the _proven_ / known soundness, and derive from Theorem 1.2 of [[Proximity Gaps](https://eprint.iacr.org/2020/654.pdf)]. The below expressions are based on [[Haböck](https://eprint.iacr.org/2022/1216.pdf)] and [[RISC Zero](https://www.risczero.com/proof-system-in-detail.pdf)], which are in agreement."
   ]
  },
  {
   "cell_type": "code",
   "execution_count": 299,
   "id": "6c8f38de-8b73-4ea9-9899-b799f3bbec80",
   "metadata": {},
   "outputs": [],
   "source": [
    "e_proximity_gap = math.pow(m + 1/2, 7) / (3 * math.pow(rho, 3/2)) * math.pow(D, 2) / F\n",
    "e_FRI_constant = (L - 1/2) * e_proximity_gap + (2 * m + 1) * (D + 1) * 16 * math.floor((h + 2) / 4 - 2) / (math.sqrt(rho) * F)\n",
    "e_FRI_queries = math.pow(1 - theta, s)\n",
    "e_FRI = e_FRI_constant + e_FRI_queries"
   ]
  },
  {
   "attachments": {},
   "cell_type": "markdown",
   "id": "0f79c02b-97ab-4c30-932a-fb79c566dbc6",
   "metadata": {},
   "source": [
    "In the next couple terms, we'll need the Guruswami–Sudan list-size quantity $L^+$ from [[Haböck](https://eprint.iacr.org/2022/1216.pdf)]. Note that there is a bit of notational confusion here; the RISC Zero spec uses the letter $\\mathsf{L}$ to refer to _both_ the number of columns $L$ _and_ to the Guruswami–Sudan list size $L^+$. Of course these are different quantities (with unfortunately similar names). *NOTE: This notational confusion has since been corrected in the RISC Zero spec.*\n",
    "\n",
    "There's a further subtlety. In order for the proof of [[Haböck](https://eprint.iacr.org/2022/1216.pdf), Theorem 8] to go through, we need to apply FRI with proximity parameter $\\theta < 1 - \\sqrt{\\rho^+}$ (note the +!). In particular, we can't choose `m` _too_ large, or else $\\theta := 1 - \\sqrt{\\rho} \\cdot \\left( 1 + \\frac{1}{2 \\cdot m} \\right)$ will become larger than $1 - \\sqrt{\\rho^+}$, and the key step in that theorem will fail. Specifically, the relevant _configuration's_ distance from Reed–Solomon code $\\mathsf{RS}_{k^+}(K, D)$ over the function field $K := F(Z)$ will exceed the Johnson bound of that code. For our parameters, this doesn't happen until `m = 131073`, so we have plenty of room.\n",
    "\n",
    "Separately, when we calculate $L^+$, we need to use a _different_ `m` than the one up above. Specifically, we need to use $m^+$, say, where $m^+$ is chosen sufficiently large that $\\theta \\leq 1 - \\sqrt{\\rho^+} \\cdot \\left( 1 + \\frac{1}{2 \\cdot m^+} \\right)$ holds. This fact is not explicit in [[Haböck](https://eprint.iacr.org/2022/1216.pdf), Theorem 8], and appears to have been an oversight.\n",
    "\n",
    "Let's calculate a minimal suitable $m^+$:"
   ]
  },
  {
   "cell_type": "code",
   "execution_count": 300,
   "id": "e78cd879-d6ed-45be-9456-f85169e63531",
   "metadata": {},
   "outputs": [
    {
     "data": {
      "text/plain": [
       "17"
      ]
     },
     "execution_count": 300,
     "metadata": {},
     "output_type": "execute_result"
    }
   ],
   "source": [
    "rho_plus = (H + max_combo) / D  # modified rate of \"extension code\" in function field; controls the agreement we actually need\n",
    "assert theta < 1 - math.sqrt(rho_plus)  # make sure `m` isn't too large.\n",
    "m_plus = math.ceil(1 / (2 * (alpha / math.sqrt(rho_plus) - 1)))\n",
    "assert theta <= 1 - math.sqrt(rho_plus) * (1 + 1 / (2 * m_plus))\n",
    "m_plus"
   ]
  },
  {
   "attachments": {},
   "cell_type": "markdown",
   "id": "2588c027-5b1a-4b47-b4f1-cd3a967ce171",
   "metadata": {},
   "source": [
    "Thus right now, we only get a difference of 1 between $m$ and $m^+$, but this becomes much more significant as $\\theta$ asymptotically approaches $1 - \\sqrt{\\rho^+}$!"
   ]
  },
  {
   "cell_type": "code",
   "execution_count": 301,
   "id": "90d79d1c-c022-4362-81f7-adcb5c62c25c",
   "metadata": {},
   "outputs": [
    {
     "data": {
      "text/plain": [
       "-39.754114166713755"
      ]
     },
     "execution_count": 301,
     "metadata": {},
     "output_type": "execute_result"
    }
   ],
   "source": [
    "L_plus = (m_plus + 1/2) / math.sqrt(rho_plus)  # note the use of m_plus here.\n",
    "\n",
    "e_ALI = L_plus * C / F\n",
    "e_DEEP = L_plus * (4 * (H + max_combo - 1) + (H - 1)) / (F - H - D)\n",
    "e_PLONK = e * 5 * H / F  # 5 comes from n_{σ_{mem}} == 5.\n",
    "e_PLOOKUP = e * 15 * H / F  # n_{σ_{bytes}} == 15.\n",
    "\n",
    "e_total_list_decoding = e_FRI + e_ALI + e_DEEP + e_PLONK + e_PLOOKUP\n",
    "math.log(e_total_list_decoding, 2)"
   ]
  },
  {
   "attachments": {},
   "cell_type": "markdown",
   "id": "4a1e1c41-3611-4911-a9c9-0a04b5ab58c5",
   "metadata": {},
   "source": [
    "Thus we appear get around ~40 bits of provable security, overall. Note that our choice `m = 16` actually optimizes this number. Indeed, the results go through for _each possible_ `m`; thus, we are free to choose `m` so as to make the result as good as possible. This is a tradeoff, for various reasons. Indeed, as `m` grows, `e_FRI_constant` gets higher (worse), but `e_FRI_queries` gets lower (better).\n",
    "\n",
    "The individual values are collected in the table below:"
   ]
  },
  {
   "cell_type": "code",
   "execution_count": 302,
   "id": "7765dd3b-5aea-4a62-ac11-b4e80245d426",
   "metadata": {},
   "outputs": [
    {
     "data": {
      "text/html": [
       "<div>\n",
       "<style scoped>\n",
       "    .dataframe tbody tr th:only-of-type {\n",
       "        vertical-align: middle;\n",
       "    }\n",
       "\n",
       "    .dataframe tbody tr th {\n",
       "        vertical-align: top;\n",
       "    }\n",
       "\n",
       "    .dataframe thead th {\n",
       "        text-align: right;\n",
       "    }\n",
       "</style>\n",
       "<table border=\"1\" class=\"dataframe\">\n",
       "  <thead>\n",
       "    <tr style=\"text-align: right;\">\n",
       "      <th></th>\n",
       "      <th>Term</th>\n",
       "      <th>log_2(P[err])</th>\n",
       "    </tr>\n",
       "  </thead>\n",
       "  <tbody>\n",
       "    <tr>\n",
       "      <th>0</th>\n",
       "      <td>e_FRI_constant</td>\n",
       "      <td>-39.759659</td>\n",
       "    </tr>\n",
       "    <tr>\n",
       "      <th>1</th>\n",
       "      <td>e_FRI_queries</td>\n",
       "      <td>-47.780294</td>\n",
       "    </tr>\n",
       "    <tr>\n",
       "      <th>2</th>\n",
       "      <td>e_ALI</td>\n",
       "      <td>-110.374161</td>\n",
       "    </tr>\n",
       "    <tr>\n",
       "      <th>3</th>\n",
       "      <td>e_DEEP</td>\n",
       "      <td>-95.176350</td>\n",
       "    </tr>\n",
       "    <tr>\n",
       "      <th>4</th>\n",
       "      <td>e_PLONK</td>\n",
       "      <td>-98.305634</td>\n",
       "    </tr>\n",
       "    <tr>\n",
       "      <th>5</th>\n",
       "      <td>e_PLOOKUP</td>\n",
       "      <td>-96.720672</td>\n",
       "    </tr>\n",
       "    <tr>\n",
       "      <th>6</th>\n",
       "      <td>e_total_list_decoding</td>\n",
       "      <td>-39.754114</td>\n",
       "    </tr>\n",
       "  </tbody>\n",
       "</table>\n",
       "</div>"
      ],
      "text/plain": [
       "                    Term  log_2(P[err])\n",
       "0         e_FRI_constant     -39.759659\n",
       "1          e_FRI_queries     -47.780294\n",
       "2                  e_ALI    -110.374161\n",
       "3                 e_DEEP     -95.176350\n",
       "4                e_PLONK     -98.305634\n",
       "5              e_PLOOKUP     -96.720672\n",
       "6  e_total_list_decoding     -39.754114"
      ]
     },
     "execution_count": 302,
     "metadata": {},
     "output_type": "execute_result"
    }
   ],
   "source": [
    "import numpy as np\n",
    "import pandas as pd\n",
    "\n",
    "def show_table():\n",
    "    err_terms = pd.DataFrame(\n",
    "        [\n",
    "            [\"e_FRI_constant\", e_FRI_constant],\n",
    "            [\"e_FRI_queries\", e_FRI_queries],\n",
    "            [\"e_ALI\", e_ALI],\n",
    "            [\"e_DEEP\", e_DEEP],\n",
    "            [\"e_PLONK\", e_PLONK],\n",
    "            [\"e_PLOOKUP\", e_PLOOKUP],\n",
    "            [\"e_total_list_decoding\", e_total_list_decoding],\n",
    "        ],\n",
    "        columns=[\"Term\", \"P[err]\"]\n",
    "    )\n",
    "    err_terms[\"log_2(P[err])\"] = np.log2(err_terms[\"P[err]\"])\n",
    "    err_terms = err_terms.drop(columns=\"P[err]\")\n",
    "    return err_terms\n",
    "show_table()"
   ]
  },
  {
   "attachments": {},
   "cell_type": "markdown",
   "id": "106b9624-20cf-4785-bea8-dd16d1108fc4",
   "metadata": {},
   "source": [
    "# Regime 3: Conjectured Soundness using Algebraic Theoretic Conjectures\n",
    "*This section was written by Ben Diamond & Jim Posen, based on the description in [Scalable Transparent Arguments of RISC-V Integrity](https://dev.risczero.com/proof-system-in-detail.pdf).*\n",
    "\n",
    "Actually, it's not hard to see that, with the rate `rho = 1/4`, it will not be possible to achieve more than 50 bits of soundness (barring an increase in the number of trials `s = 50`), _even_ assuming Conjecture 8.4 of [[Proximity Gaps](https://eprint.iacr.org/2020/654.pdf)]. Indeed, with these parameters, we have $\\log_2 \\left( \\epsilon_{\\text{FRI-queries}} \\right) = s \\cdot \\log_2 \\left( \\left( 1 + \\frac{1}{2 \\cdot m} \\right) \\cdot \\frac{1}{2} \\right) \\geq -s$, where the latter holds even in the limit as $m \\rightarrow \\infty$. Paradoxically, the larger proximity parameters Conjecture 8.4 makes possible—i.e., in the range $\\theta \\geq 1 - \\sqrt{\\rho}$—don't help us here, _unless_ we also make further conjectures about the list-decodability of Reed–Solomon codes up to capacity. Sure enough, the proof of [[Haböck](https://eprint.iacr.org/2022/1216.pdf), Theorem 8] relies on the list-decodability of the Reed–Solomon code $\\mathsf{RS}_{k^+}(K, D)$, where $K := F(Z)$ is the infinite function field over $F$ in one indeterminate. This latter list decodability will fail as soon as $\\theta \\geq 1 - \\sqrt{\\rho^+}$.\n",
    "\n",
    "Thus, to make progress, we need to additionally assume [[DEEP-FRI](https://eprint.iacr.org/2019/336.pdf), Conjecture 2.3]. As a digression, we note that this conjecture seems highly unlikely to be proven soon; in fact, our best-known explicit constructions of capacity-achieving codes are far more complicated than standard Reed–Solomon codes; we refer example to [[Guruswami](https://www.nowpublishers.com/article/Details/TCS-007)].\n",
    "\n",
    "In any case, let's proceed, now assuming [[Proximity Gaps](https://eprint.iacr.org/2020/654.pdf), Conjecture 8.4] _and_ [[DEEP-FRI](https://eprint.iacr.org/2019/336.pdf), Conjecture 2.3]. The latter conjecture in turn depends on an unspecified constant `C_rho`, depending only on `rho`."
   ]
  },
  {
   "cell_type": "code",
   "execution_count": 303,
   "id": "8ec2c439-347c-4bdd-8379-56a4b7f5774c",
   "metadata": {},
   "outputs": [
    {
     "data": {
      "text/plain": [
       "167775761"
      ]
     },
     "execution_count": 303,
     "metadata": {},
     "output_type": "execute_result"
    }
   ],
   "source": [
    "c_1 = 1  # first parameter in Proximity Gaps, Conjecture 8.4\n",
    "c_2 = 1  # second parameter in Proximity Gaps, Conjecture 8.4\n",
    "C_rho = 1  # unpsecified exponent parameter in DEEP-FRI, Conjecture 2.3\n",
    "\n",
    "epsilon = 0.05  # also called \"eta\" in Proximity Gaps\n",
    "theta = 1 - rho - epsilon  # new proximity parameter! overwrites old one.\n",
    "assert theta < 1 - rho_plus  # can't exceed the capacity of RS_{k⁺}(K, D).\n",
    "epsilon_plus = 1 - rho_plus - theta\n",
    "e_proximity_gap = 1 / math.pow(epsilon * rho, c_1) * L * math.pow(D, c_2) / F  # new value, from Proximity Gaps, Conjecture 8.4\n",
    "e_FRI_constant = (L - 1/2) * e_proximity_gap + (2 * m + 1) * (D + 1) * 16 * math.floor((h + 2) / 4 - 2) / (math.sqrt(rho) * F)  # add folding error\n",
    "e_FRI_queries = math.pow(1 - theta, s)  # now using the new, better theta!\n",
    "e_FRI = e_FRI_constant + e_FRI_queries\n",
    "\n",
    "L_plus = math.ceil(math.pow(D / epsilon_plus, C_rho))\n",
    "L_plus"
   ]
  },
  {
   "attachments": {},
   "cell_type": "markdown",
   "id": "db66b87c-3431-4ac0-8ed7-7738bbf04aa0",
   "metadata": {},
   "source": [
    "We note that this is a huge number; indeed, in the setting of [[DEEP-FRI](https://eprint.iacr.org/2019/336.pdf), Conjecture 2.3], the list size depends on the domain size `D`. This wasn't true for the original list size `L_plus` above; indeed, the Guruswami–Sudan list size depends only on the rate and the proximity parameter, but not on the message or block length! As a separate note, since we need to perform list decoding in $\\mathsf{RS}_{k^+}(K, D)$, we need to compute the list size $L^+$ based on $\\varepsilon^+$, not on $\\varepsilon$.\n",
    "\n",
    "We're implicitly using [[DEEP-FRI](https://eprint.iacr.org/2019/336.pdf), Conjecture 2.3], here, in order for the analogue of [[Haböck](https://eprint.iacr.org/2022/1216.pdf), Thm. 8] to go through. Indeed, [[DEEP-FRI](https://eprint.iacr.org/2019/336.pdf), Conjecture 2.3] here allows us to assert that, even at the proximity parameter $\\theta = 1 - \\rho - \\varepsilon$—as long as $\\theta < 1 - \\rho^+$ holds—we still get list-decodability in $\\mathsf{RS}_{k^+}(K, D)$, where the list size $L^+$, just calculated above, again comes from [[DEEP-FRI](https://eprint.iacr.org/2019/336.pdf), Conjecture 2.3]. Let's proceed:"
   ]
  },
  {
   "cell_type": "code",
   "execution_count": 304,
   "id": "cac8363a-570f-48df-8c2d-f9a27684cc5c",
   "metadata": {},
   "outputs": [
    {
     "data": {
      "text/plain": [
       "-72.94017855099938"
      ]
     },
     "execution_count": 304,
     "metadata": {},
     "output_type": "execute_result"
    }
   ],
   "source": [
    "e_ALI = L_plus * C / F\n",
    "e_DEEP = L_plus * (4 * (H + max_combo - 1) + (H - 1)) / (F - H - D)\n",
    "e_PLONK = e * 5 * H / F  # 5 comes from n_{σ_{mem}} == 5.\n",
    "e_PLOOKUP = e * 15 * H / F  # n_{σ_{bytes}} == 15.\n",
    "\n",
    "e_total_conjectured_coding_theory = e_FRI + e_ALI + e_DEEP + e_PLONK + e_PLOOKUP\n",
    "math.log(e_total_conjectured_coding_theory, 2)"
   ]
  },
  {
   "attachments": {},
   "cell_type": "markdown",
   "id": "d17c81a1-27b0-40e6-bb2e-bc42a48c8bd3",
   "metadata": {},
   "source": [
    "Thus we can see that we're getting much better security under the various conjectures. Note that this soundness is very sensitive to $\\varepsilon$. (Slimmer $\\varepsilon$ means _higher_ $\\theta$, and hence better soundness from the queries; but it also means bigger list size, and hence worse soundness for DEEP-ALI.) We have chosen $\\varepsilon$ to make this soudness as high as possible.\n",
    "\n",
    "The soudness is also very sensitive to the unspecified exponents `C_rho`, `c_1` and `c_2` in the conjectures. For example, if we increase `C_rho` to 2, we see that the amount of security we'd get drops to ~59 bits (though can in turn be improved to 60 bits by relaxing $\\varepsilon$ to 0.1).\n",
    "\n",
    "For ease of reading, we've collected all of the relevant soundness levels in the table below."
   ]
  },
  {
   "cell_type": "code",
   "execution_count": 305,
   "id": "c698ed85-d79f-485d-9af1-96fcf8992b43",
   "metadata": {},
   "outputs": [
    {
     "data": {
      "text/html": [
       "<div>\n",
       "<style scoped>\n",
       "    .dataframe tbody tr th:only-of-type {\n",
       "        vertical-align: middle;\n",
       "    }\n",
       "\n",
       "    .dataframe tbody tr th {\n",
       "        vertical-align: top;\n",
       "    }\n",
       "\n",
       "    .dataframe thead th {\n",
       "        text-align: right;\n",
       "    }\n",
       "</style>\n",
       "<table border=\"1\" class=\"dataframe\">\n",
       "  <thead>\n",
       "    <tr style=\"text-align: right;\">\n",
       "      <th></th>\n",
       "      <th>Term</th>\n",
       "      <th>log_2(P[err])</th>\n",
       "    </tr>\n",
       "  </thead>\n",
       "  <tbody>\n",
       "    <tr>\n",
       "      <th>0</th>\n",
       "      <td>e_FRI_constant</td>\n",
       "      <td>-78.018155</td>\n",
       "    </tr>\n",
       "    <tr>\n",
       "      <th>1</th>\n",
       "      <td>e_FRI_queries</td>\n",
       "      <td>-86.848280</td>\n",
       "    </tr>\n",
       "    <tr>\n",
       "      <th>2</th>\n",
       "      <td>e_ALI</td>\n",
       "      <td>-88.181482</td>\n",
       "    </tr>\n",
       "    <tr>\n",
       "      <th>3</th>\n",
       "      <td>e_DEEP</td>\n",
       "      <td>-72.983671</td>\n",
       "    </tr>\n",
       "    <tr>\n",
       "      <th>4</th>\n",
       "      <td>e_PLONK</td>\n",
       "      <td>-98.305634</td>\n",
       "    </tr>\n",
       "    <tr>\n",
       "      <th>5</th>\n",
       "      <td>e_PLOOKUP</td>\n",
       "      <td>-96.720672</td>\n",
       "    </tr>\n",
       "    <tr>\n",
       "      <th>6</th>\n",
       "      <td>e_total_list_decoding</td>\n",
       "      <td>-39.754114</td>\n",
       "    </tr>\n",
       "  </tbody>\n",
       "</table>\n",
       "</div>"
      ],
      "text/plain": [
       "                    Term  log_2(P[err])\n",
       "0         e_FRI_constant     -78.018155\n",
       "1          e_FRI_queries     -86.848280\n",
       "2                  e_ALI     -88.181482\n",
       "3                 e_DEEP     -72.983671\n",
       "4                e_PLONK     -98.305634\n",
       "5              e_PLOOKUP     -96.720672\n",
       "6  e_total_list_decoding     -39.754114"
      ]
     },
     "execution_count": 305,
     "metadata": {},
     "output_type": "execute_result"
    }
   ],
   "source": [
    "show_table()"
   ]
  },
  {
   "cell_type": "markdown",
   "id": "b7d6b70b",
   "metadata": {},
   "source": [
    "# Regime 4: Provable Soundness in the Unique-Decoding Radius\n",
    "\n",
    "*When targeting 100+ bits of provable soundness, our analysis indicates that it may be wise to use analysis in the unique-decoding radius rather than the list-decoding radius. To that end, this section adapts the analysis above to reflect provable soundness in the unique decoding radius. We worked with Al Kindi (Polygon) in order to translate Theorem 8.3 from the [Proximity Gaps] paper into a corresponding result for the unique-decoding radius, finding e_FRI_constant = (D+1) * (L + folding_factor - 1) * num_fri_rounds / F_FRI. An informal version of this analysis is available [here](https://hackmd.io/@pgaf/HkKs_1ytT). A more formal (unpublished) analysis is available upon request. It remains to integrate this analysis into the context of Theorem 8 from [Summary on the FRI Low-Degree Test]. This remaining work is reflected in the TODOs in the calculator.*"
   ]
  },
  {
   "cell_type": "markdown",
   "id": "f67440d2",
   "metadata": {},
   "source": [
    "TODO - update this section for UDR \n",
    "The parameter `m` below is the \"Johnson parameter\"; see [[Haböck](https://eprint.iacr.org/2022/1216.pdf)]. This one is subtle, since it doesn't appear directly in the protocol at all; rather, it only appears in the soundness estimates. We have chosen it to here _optimize_ the number of bits of provable security achieved. We comment on this further below."
   ]
  },
  {
   "cell_type": "code",
   "execution_count": 306,
   "id": "34ebde1a",
   "metadata": {},
   "outputs": [],
   "source": [
    "m = 16 # TODO update for UDR... do m and m+ both disappear entirely? \n",
    "# i think there will still be some notion of rho+...\n",
    "alpha = 1 - (1 - rho) / 2 # TODO factcheck whether the \"1 - \" is correct here\n",
    "theta = 1 - alpha"
   ]
  },
  {
   "cell_type": "markdown",
   "id": "7607ef90",
   "metadata": {},
   "source": [
    "e_FRI_constant = (D+1) * (L + (folding_factor - 1) * num_fri_rounds) / F_FRI\n",
    "e_FRI_queries = math.pow(1 - theta, s)\n",
    "e_FRI = e_FRI_constant + e_FRI_queries"
   ]
  },
  {
   "cell_type": "markdown",
   "id": "a4bb6e8b",
   "metadata": {},
   "source": [
    "TODO -- revise this note for unique decoding radius\n",
    "\n",
    "There's a further subtlety. In order for the proof of [[Haböck](https://eprint.iacr.org/2022/1216.pdf), Theorem 8] to go through, we need to apply FRI with proximity parameter $\\theta < 1 - \\sqrt{\\rho^+}$ (note the +!). In particular, we can't choose `m` _too_ large, or else $\\theta := 1 - \\sqrt{\\rho} \\cdot \\left( 1 + \\frac{1}{2 \\cdot m} \\right)$ will become larger than $\\frac{1 - \\rho}{2}$, and the key step in that theorem will fail. Specifically, the relevant _configuration's_ distance from Reed–Solomon code $\\mathsf{RS}_{k^+}(K, D)$ over the function field $K := F(Z)$ will exceed the Johnson bound of that code. For our parameters, this doesn't happen until `m = 131073`, so we have plenty of room.\n",
    "\n",
    "Separately, when we calculate $L^+$, we need to use a _different_ `m` than the one up above. Specifically, we need to use $m^+$, say, where $m^+$ is chosen sufficiently large that $\\theta \\leq 1 - \\sqrt{\\rho^+} \\cdot \\left( 1 + \\frac{1}{2 \\cdot m^+} \\right)$ holds. This fact is not explicit in [[Haböck](https://eprint.iacr.org/2022/1216.pdf), Theorem 8], and appears to have been an oversight.\n",
    "\n",
    "Let's calculate a minimal suitable $m^+$:"
   ]
  },
  {
   "cell_type": "code",
   "execution_count": 307,
   "id": "4b824ce5",
   "metadata": {},
   "outputs": [
    {
     "data": {
      "text/plain": [
       "3"
      ]
     },
     "execution_count": 307,
     "metadata": {},
     "output_type": "execute_result"
    }
   ],
   "source": [
    "rho_plus = (H + max_combo) / D  # modified rate of \"extension code\" in function field; controls the agreement we actually need\n",
    "# todo adjust this assertion for unique decoding radius\n",
    "assert theta < 1 - math.sqrt(rho_plus)  # make sure `m` isn't too large.\n",
    "m_plus = math.ceil(1 / (2 * (alpha / math.sqrt(rho_plus) - 1)))\n",
    "# todo adjust this assertion for unique decoding radius\n",
    "assert theta <= 1 - math.sqrt(rho_plus) * (1 + 1 / (2 * m_plus))\n",
    "m_plus"
   ]
  },
  {
   "cell_type": "code",
   "execution_count": 308,
   "id": "64a83074",
   "metadata": {},
   "outputs": [
    {
     "data": {
      "text/plain": [
       "-78.01498338691894"
      ]
     },
     "execution_count": 308,
     "metadata": {},
     "output_type": "execute_result"
    }
   ],
   "source": [
    "L_plus = 1 # Since we restrict our analysis to the unique decoding radius, we set the list-size to be 1.\n",
    "\n",
    "e_ALI = L_plus * C / F_DEEP\n",
    "e_DEEP = L_plus * (4 * (H + max_combo - 1) + (H - 1)) / (F_DEEP - H - D)\n",
    "e_PLONK = ext_size * 5 * H / F_accum  # 5 comes from n_{σ_{mem}} == 5.\n",
    "e_PLOOKUP = ext_size* 15 * H / F_accum  # n_{σ_{bytes}} == 15.\n",
    "\n",
    "e_total_unique_decoding = e_FRI + e_ALI + e_DEEP + e_PLONK + e_PLOOKUP\n",
    "math.log(e_total_unique_decoding, 2)"
   ]
  },
  {
   "cell_type": "code",
   "execution_count": 309,
   "id": "27e5a2f5",
   "metadata": {},
   "outputs": [
    {
     "data": {
      "text/html": [
       "<div>\n",
       "<style scoped>\n",
       "    .dataframe tbody tr th:only-of-type {\n",
       "        vertical-align: middle;\n",
       "    }\n",
       "\n",
       "    .dataframe tbody tr th {\n",
       "        vertical-align: top;\n",
       "    }\n",
       "\n",
       "    .dataframe thead th {\n",
       "        text-align: right;\n",
       "    }\n",
       "</style>\n",
       "<table border=\"1\" class=\"dataframe\">\n",
       "  <thead>\n",
       "    <tr style=\"text-align: right;\">\n",
       "      <th></th>\n",
       "      <th>Term</th>\n",
       "      <th>log_2(P[err])</th>\n",
       "    </tr>\n",
       "  </thead>\n",
       "  <tbody>\n",
       "    <tr>\n",
       "      <th>0</th>\n",
       "      <td>e_FRI_constant</td>\n",
       "      <td>-78.018155</td>\n",
       "    </tr>\n",
       "    <tr>\n",
       "      <th>1</th>\n",
       "      <td>e_FRI_queries</td>\n",
       "      <td>-86.848280</td>\n",
       "    </tr>\n",
       "    <tr>\n",
       "      <th>2</th>\n",
       "      <td>e_ALI</td>\n",
       "      <td>-115.503441</td>\n",
       "    </tr>\n",
       "    <tr>\n",
       "      <th>3</th>\n",
       "      <td>e_DEEP</td>\n",
       "      <td>-100.305630</td>\n",
       "    </tr>\n",
       "    <tr>\n",
       "      <th>4</th>\n",
       "      <td>e_PLONK</td>\n",
       "      <td>-98.305634</td>\n",
       "    </tr>\n",
       "    <tr>\n",
       "      <th>5</th>\n",
       "      <td>e_PLOOKUP</td>\n",
       "      <td>-96.720672</td>\n",
       "    </tr>\n",
       "  </tbody>\n",
       "</table>\n",
       "</div>"
      ],
      "text/plain": [
       "             Term  log_2(P[err])\n",
       "0  e_FRI_constant     -78.018155\n",
       "1   e_FRI_queries     -86.848280\n",
       "2           e_ALI    -115.503441\n",
       "3          e_DEEP    -100.305630\n",
       "4         e_PLONK     -98.305634\n",
       "5       e_PLOOKUP     -96.720672"
      ]
     },
     "execution_count": 309,
     "metadata": {},
     "output_type": "execute_result"
    }
   ],
   "source": [
    "import numpy as np\n",
    "import pandas as pd\n",
    "\n",
    "def show_table():\n",
    "    err_terms = pd.DataFrame(\n",
    "        [\n",
    "            [\"e_FRI_constant\", e_FRI_constant],\n",
    "            [\"e_FRI_queries\", e_FRI_queries],\n",
    "            [\"e_ALI\", e_ALI],\n",
    "            [\"e_DEEP\", e_DEEP],\n",
    "            [\"e_PLONK\", e_PLONK],\n",
    "            [\"e_PLOOKUP\", e_PLOOKUP],\n",
    "        ],\n",
    "        columns=[\"Term\", \"P[err]\"]\n",
    "    )\n",
    "    err_terms[\"log_2(P[err])\"] = np.log2(err_terms[\"P[err]\"])\n",
    "    err_terms = err_terms.drop(columns=\"P[err]\")\n",
    "    return err_terms\n",
    "show_table()"
   ]
  },
  {
   "cell_type": "markdown",
   "id": "784a24ed",
   "metadata": {},
   "source": [
    "# Summary\n",
    "\n",
    "We close with a summary of all four results."
   ]
  },
  {
   "cell_type": "code",
   "execution_count": 310,
   "id": "5c7ecbdc",
   "metadata": {},
   "outputs": [
    {
     "data": {
      "text/html": [
       "<div>\n",
       "<style scoped>\n",
       "    .dataframe tbody tr th:only-of-type {\n",
       "        vertical-align: middle;\n",
       "    }\n",
       "\n",
       "    .dataframe tbody tr th {\n",
       "        vertical-align: top;\n",
       "    }\n",
       "\n",
       "    .dataframe thead th {\n",
       "        text-align: right;\n",
       "    }\n",
       "</style>\n",
       "<table border=\"1\" class=\"dataframe\">\n",
       "  <thead>\n",
       "    <tr style=\"text-align: right;\">\n",
       "      <th></th>\n",
       "      <th>Term</th>\n",
       "      <th>log_2(P[err])</th>\n",
       "    </tr>\n",
       "  </thead>\n",
       "  <tbody>\n",
       "    <tr>\n",
       "      <th>0</th>\n",
       "      <td>Regime 1: Conjectured Soundness (Best Known At...</td>\n",
       "      <td>-97.450449</td>\n",
       "    </tr>\n",
       "    <tr>\n",
       "      <th>1</th>\n",
       "      <td>Regime 2: Provable Soundness (List-Decoding)</td>\n",
       "      <td>-39.754114</td>\n",
       "    </tr>\n",
       "    <tr>\n",
       "      <th>2</th>\n",
       "      <td>Regime 3: Conjectured Soundness (Coding Theore...</td>\n",
       "      <td>-72.940179</td>\n",
       "    </tr>\n",
       "    <tr>\n",
       "      <th>3</th>\n",
       "      <td>Regime 4: Provable Soundness (Unique-Decoding)</td>\n",
       "      <td>-78.014983</td>\n",
       "    </tr>\n",
       "  </tbody>\n",
       "</table>\n",
       "</div>"
      ],
      "text/plain": [
       "                                                Term  log_2(P[err])\n",
       "0  Regime 1: Conjectured Soundness (Best Known At...     -97.450449\n",
       "1       Regime 2: Provable Soundness (List-Decoding)     -39.754114\n",
       "2  Regime 3: Conjectured Soundness (Coding Theore...     -72.940179\n",
       "3     Regime 4: Provable Soundness (Unique-Decoding)     -78.014983"
      ]
     },
     "execution_count": 310,
     "metadata": {},
     "output_type": "execute_result"
    }
   ],
   "source": [
    "import numpy as np\n",
    "import pandas as pd\n",
    "\n",
    "def show_table():\n",
    "    err_terms = pd.DataFrame(\n",
    "        [\n",
    "            [\"Regime 1: Conjectured Soundness (Best Known Attack)\", e_total_toy_problem],\n",
    "            [\"Regime 2: Provable Soundness (List-Decoding)\", e_total_list_decoding],\n",
    "\n",
    "            [\"Regime 3: Conjectured Soundness (Coding Theoretic)\", e_total_conjectured_coding_theory],\n",
    "            [\"Regime 4: Provable Soundness (Unique-Decoding)\", e_total_unique_decoding],\n",
    "        ],\n",
    "        columns=[\"Term\", \"P[err]\"]\n",
    "    )\n",
    "    err_terms[\"log_2(P[err])\"] = np.log2(err_terms[\"P[err]\"])\n",
    "    err_terms = err_terms.drop(columns=\"P[err]\")\n",
    "    return err_terms\n",
    "show_table()"
   ]
  }
 ],
 "metadata": {
  "kernelspec": {
   "display_name": "Python 3 (ipykernel)",
   "language": "python",
   "name": "python3"
  },
  "language_info": {
   "codemirror_mode": {
    "name": "ipython",
    "version": 3
   },
   "file_extension": ".py",
   "mimetype": "text/x-python",
   "name": "python",
   "nbconvert_exporter": "python",
   "pygments_lexer": "ipython3",
   "version": "3.9.6"
  }
 },
 "nbformat": 4,
 "nbformat_minor": 5
}
